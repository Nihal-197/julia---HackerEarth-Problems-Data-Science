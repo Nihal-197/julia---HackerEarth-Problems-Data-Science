{
 "cells": [
  {
   "cell_type": "markdown",
   "id": "949a28c1",
   "metadata": {},
   "source": [
    "Bob has an important meeting tomorrow and he has to reach office on time in morning. His general mode of transport is by car and on a regular day (no car trouble) the probability that he will reach on time is *pot*. The probability that he might have car trouble is *pct*\n",
    "\n",
    ". If the car runs into trouble he will have to take a train and only 2 trains out of the available *N* trains will get him to office on time.\n",
    "\n",
    "What are the chances that he will reach office on time tomorrow?"
   ]
  },
  {
   "cell_type": "code",
   "execution_count": 3,
   "id": "dbfd0e10",
   "metadata": {},
   "outputs": [
    {
     "name": "stdout",
     "output_type": "stream",
     "text": [
      "stdin> 0.2\n",
      "stdin> 0.3\n",
      "stdin> 10\n"
     ]
    },
    {
     "data": {
      "text/plain": [
       "10"
      ]
     },
     "execution_count": 3,
     "metadata": {},
     "output_type": "execute_result"
    }
   ],
   "source": [
    "pct = parse(Float64, readline())\n",
    "pot = parse(Float64, readline())\n",
    "N = parse(Int, readline())"
   ]
  },
  {
   "cell_type": "code",
   "execution_count": 6,
   "id": "129f66c2",
   "metadata": {},
   "outputs": [
    {
     "name": "stdout",
     "output_type": "stream",
     "text": [
      "0.28\n"
     ]
    }
   ],
   "source": [
    "println(round((pot*(1-pct) + pct*(2/N)),digits = 6))"
   ]
  },
  {
   "cell_type": "code",
   "execution_count": null,
   "id": "84a0d9ce",
   "metadata": {},
   "outputs": [],
   "source": []
  }
 ],
 "metadata": {
  "kernelspec": {
   "display_name": "Julia 1.6.0",
   "language": "julia",
   "name": "julia-1.6"
  },
  "language_info": {
   "file_extension": ".jl",
   "mimetype": "application/julia",
   "name": "julia",
   "version": "1.6.0"
  }
 },
 "nbformat": 4,
 "nbformat_minor": 5
}
