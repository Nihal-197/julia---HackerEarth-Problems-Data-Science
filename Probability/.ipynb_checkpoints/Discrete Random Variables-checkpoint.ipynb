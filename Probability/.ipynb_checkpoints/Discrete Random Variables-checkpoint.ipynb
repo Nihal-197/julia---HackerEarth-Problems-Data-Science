{
 "cells": [
  {
   "cell_type": "markdown",
   "id": "aae9f0d3",
   "metadata": {},
   "source": [
    "Probability that Alice will accidentally drop her phone to ground is p. She will not be careful after any no.of unfortunate events. Let X be the random variable that equals to the no.of times Alice drops her phone.\n",
    "\n",
    "Write a program to calculate the expectation value, E(X). "
   ]
  },
  {
   "cell_type": "code",
   "execution_count": null,
   "id": "cb4c3679",
   "metadata": {},
   "outputs": [],
   "source": []
  },
  {
   "cell_type": "code",
   "execution_count": null,
   "id": "9914c118",
   "metadata": {},
   "outputs": [],
   "source": []
  },
  {
   "cell_type": "code",
   "execution_count": null,
   "id": "05613f27",
   "metadata": {},
   "outputs": [],
   "source": []
  },
  {
   "cell_type": "code",
   "execution_count": null,
   "id": "c5b03ff4",
   "metadata": {},
   "outputs": [],
   "source": []
  }
 ],
 "metadata": {
  "kernelspec": {
   "display_name": "Julia 1.6.0",
   "language": "julia",
   "name": "julia-1.6"
  },
  "language_info": {
   "file_extension": ".jl",
   "mimetype": "application/julia",
   "name": "julia",
   "version": "1.6.0"
  }
 },
 "nbformat": 4,
 "nbformat_minor": 5
}
