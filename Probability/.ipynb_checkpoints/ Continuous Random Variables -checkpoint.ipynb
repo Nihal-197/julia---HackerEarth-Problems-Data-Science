{
 "cells": [
  {
   "cell_type": "markdown",
   "id": "8c4fcc71",
   "metadata": {},
   "source": [
    "Alice has to wait for her husband at the station and X denotes the times elapsed before he arrives. If given that X is exponentially distributed with $ \\lambda = 0.01 $ what is the probability that Alice has to wait for more than N mins $ (P(X \\geq N) $."
   ]
  },
  {
   "cell_type": "code",
   "execution_count": 12,
   "id": "fba2fd42",
   "metadata": {},
   "outputs": [
    {
     "name": "stdout",
     "output_type": "stream",
     "text": [
      "stdin> 5\n"
     ]
    },
    {
     "data": {
      "text/plain": [
       "0.01"
      ]
     },
     "execution_count": 12,
     "metadata": {},
     "output_type": "execute_result"
    }
   ],
   "source": [
    "N = parse(Int, readline())\n",
    "λ = 0.01"
   ]
  },
  {
   "cell_type": "code",
   "execution_count": 17,
   "id": "910c84a0",
   "metadata": {},
   "outputs": [
    {
     "name": "stdout",
     "output_type": "stream",
     "text": [
      "0.999167"
     ]
    }
   ],
   "source": [
    "print(round( ( exp(-λ*N)), digits = 6 ))"
   ]
  },
  {
   "cell_type": "code",
   "execution_count": null,
   "id": "ba8b8e39",
   "metadata": {},
   "outputs": [],
   "source": []
  }
 ],
 "metadata": {
  "kernelspec": {
   "display_name": "Julia 1.6.0",
   "language": "julia",
   "name": "julia-1.6"
  },
  "language_info": {
   "file_extension": ".jl",
   "mimetype": "application/julia",
   "name": "julia",
   "version": "1.6.0"
  }
 },
 "nbformat": 4,
 "nbformat_minor": 5
}
