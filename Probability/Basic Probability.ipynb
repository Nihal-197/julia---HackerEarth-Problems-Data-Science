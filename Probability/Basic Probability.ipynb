{
 "cells": [
  {
   "cell_type": "code",
   "execution_count": 8,
   "id": "bb9a7beb",
   "metadata": {},
   "outputs": [
    {
     "ename": "LoadError",
     "evalue": "MethodError: no method matching readuntil(::Char)\n\u001b[0mClosest candidates are:\n\u001b[0m  readuntil(\u001b[91m::Base.AbstractPipe\u001b[39m, \u001b[91m::UInt8\u001b[39m; kw...) at io.jl:368\n\u001b[0m  readuntil(\u001b[91m::Base.AbstractPipe\u001b[39m, \u001b[91m::AbstractChar\u001b[39m; kw...) at io.jl:369\n\u001b[0m  readuntil(\u001b[91m::Base.AbstractPipe\u001b[39m, \u001b[91m::AbstractString\u001b[39m; kw...) at io.jl:370\n\u001b[0m  ...",
     "output_type": "error",
     "traceback": [
      "MethodError: no method matching readuntil(::Char)\n\u001b[0mClosest candidates are:\n\u001b[0m  readuntil(\u001b[91m::Base.AbstractPipe\u001b[39m, \u001b[91m::UInt8\u001b[39m; kw...) at io.jl:368\n\u001b[0m  readuntil(\u001b[91m::Base.AbstractPipe\u001b[39m, \u001b[91m::AbstractChar\u001b[39m; kw...) at io.jl:369\n\u001b[0m  readuntil(\u001b[91m::Base.AbstractPipe\u001b[39m, \u001b[91m::AbstractString\u001b[39m; kw...) at io.jl:370\n\u001b[0m  ...",
      "",
      "Stacktrace:",
      " [1] top-level scope",
      "   @ In[8]:1",
      " [2] eval",
      "   @ .\\boot.jl:360 [inlined]",
      " [3] include_string(mapexpr::typeof(REPL.softscope), mod::Module, code::String, filename::String)",
      "   @ Base .\\loading.jl:1094"
     ]
    }
   ],
   "source": [
    "pm = parse(Float64, readline())\n",
    "pb = parse(Float64, readline())\n",
    "p1 = parse(Float64, readline())\n"
   ]
  },
  {
   "cell_type": "code",
   "execution_count": 4,
   "id": "544eeb8c",
   "metadata": {},
   "outputs": [
    {
     "name": "stdout",
     "output_type": "stream",
     "text": [
      "0.16\n"
     ]
    }
   ],
   "source": [
    "println(round(p1*(pm*(1-pb)+pb*(1-pm)), digits = 6))"
   ]
  },
  {
   "cell_type": "code",
   "execution_count": null,
   "id": "23dbe6cb",
   "metadata": {},
   "outputs": [],
   "source": []
  }
 ],
 "metadata": {
  "kernelspec": {
   "display_name": "Julia 1.6.0",
   "language": "julia",
   "name": "julia-1.6"
  },
  "language_info": {
   "file_extension": ".jl",
   "mimetype": "application/julia",
   "name": "julia",
   "version": "1.6.0"
  }
 },
 "nbformat": 4,
 "nbformat_minor": 5
}
