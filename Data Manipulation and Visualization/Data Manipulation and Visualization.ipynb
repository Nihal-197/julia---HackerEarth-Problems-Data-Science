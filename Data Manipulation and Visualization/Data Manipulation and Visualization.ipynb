{
 "cells": [
  {
   "cell_type": "code",
   "execution_count": 2,
   "id": "7babe8b4",
   "metadata": {
    "collapsed": true
   },
   "outputs": [
    {
     "name": "stderr",
     "output_type": "stream",
     "text": [
      "\u001b[32m\u001b[1m    Updating\u001b[22m\u001b[39m registry at `C:\\Users\\Nihal\\.julia\\registries\\General`\n",
      "\u001b[32m\u001b[1m    Updating\u001b[22m\u001b[39m git-repo `https://github.com/JuliaRegistries/General.git`\n",
      "\u001b[32m\u001b[1m   Resolving\u001b[22m\u001b[39m package versions...\n",
      "\u001b[32m\u001b[1m  No Changes\u001b[22m\u001b[39m to `C:\\Users\\Nihal\\.julia\\environments\\v1.6\\Project.toml`\n",
      "\u001b[32m\u001b[1m  No Changes\u001b[22m\u001b[39m to `C:\\Users\\Nihal\\.julia\\environments\\v1.6\\Manifest.toml`\n"
     ]
    }
   ],
   "source": [
    "using Pkg\n",
    "Pkg.add(\"DataFrames\")\n",
    "Pkg.add(\"PyPlot\") #if you haven't yet\n",
    "Pkg.add(\"StatsPlots\") # using it for hitogram and all the basic things already in Pandas\n",
    "Pkg.add(\"ScikitLearn\") #case sensitive and wont be using it rn in this notebook\n"
   ]
  },
  {
   "cell_type": "code",
   "execution_count": null,
   "id": "ef34ff97",
   "metadata": {},
   "outputs": [],
   "source": [
    "# before we start with dataframe lets review the arrays and basic numpy things we used to do\n",
    "# Arrays\n"
   ]
  },
  {
   "cell_type": "code",
   "execution_count": 8,
   "id": "c1eb5ccb",
   "metadata": {},
   "outputs": [
    {
     "data": {
      "text/plain": [
       "3-element Vector{Int64}:\n",
       " 10\n",
       " 20\n",
       " 30"
      ]
     },
     "execution_count": 8,
     "metadata": {},
     "output_type": "execute_result"
    }
   ],
   "source": [
    "A = [10,20,30] #vector "
   ]
  },
  {
   "cell_type": "code",
   "execution_count": 12,
   "id": "2446c199",
   "metadata": {},
   "outputs": [
    {
     "data": {
      "text/plain": [
       "3×4 Matrix{Float64}:\n",
       " 0.620189  0.935652  0.156193  0.0982893\n",
       " 0.165794  0.165596  0.429152  0.246788\n",
       " 0.819437  0.673186  0.334784  0.0868025"
      ]
     },
     "execution_count": 12,
     "metadata": {},
     "output_type": "execute_result"
    }
   ],
   "source": [
    "# we use random for creating some matrices\n",
    "using Random \n",
    "rand(3,4) #= (row, columns)\n"
   ]
  },
  {
   "cell_type": "code",
   "execution_count": 26,
   "id": "fcc5479f",
   "metadata": {},
   "outputs": [
    {
     "data": {
      "text/plain": [
       "3×4 Matrix{Int64}:\n",
       " 1  1  1  1\n",
       " 1  1  1  1\n",
       " 1  1  1  1"
      ]
     },
     "execution_count": 26,
     "metadata": {},
     "output_type": "execute_result"
    }
   ],
   "source": [
    "# basic numpy counterparts for common matrices \n",
    "A = ones(3,4 ) #by default it will be float\n",
    "A1 =map(x-> trunc(Int,x), A) # a small trick to convert it into Int\n",
    "#best thing in broadcasting is this @. macro https://stackoverflow.com/questions/56137218/what-is-julia-equivalent-of-numpys-where-function"
   ]
  },
  {
   "cell_type": "code",
   "execution_count": 27,
   "id": "c7c21912",
   "metadata": {},
   "outputs": [
    {
     "data": {
      "text/plain": [
       "3×2 Matrix{Int64}:\n",
       " 1  1\n",
       " 1  1\n",
       " 1  1"
      ]
     },
     "execution_count": 27,
     "metadata": {},
     "output_type": "execute_result"
    }
   ],
   "source": [
    "x = fill(1, (3,2)) # = fill(1.0, 3) #or use this for any type of matrices instead"
   ]
  },
  {
   "cell_type": "code",
   "execution_count": 14,
   "id": "731a5a85",
   "metadata": {},
   "outputs": [
    {
     "data": {
      "text/plain": [
       "3×4 Matrix{Float64}:\n",
       " 0.0  0.0  0.0  0.0\n",
       " 0.0  0.0  0.0  0.0\n",
       " 0.0  0.0  0.0  0.0"
      ]
     },
     "execution_count": 14,
     "metadata": {},
     "output_type": "execute_result"
    }
   ],
   "source": [
    "B = zeros(3,4)"
   ]
  },
  {
   "cell_type": "code",
   "execution_count": 29,
   "id": "0b014c85",
   "metadata": {},
   "outputs": [
    {
     "data": {
      "text/plain": [
       "11-element Vector{Int64}:\n",
       "  0\n",
       "  2\n",
       "  4\n",
       "  6\n",
       "  8\n",
       " 10\n",
       " 12\n",
       " 14\n",
       " 16\n",
       " 18\n",
       " 20"
      ]
     },
     "execution_count": 29,
     "metadata": {},
     "output_type": "execute_result"
    }
   ],
   "source": [
    "A = [i*2 for i in 0:10] #if you want to use np.arrange()"
   ]
  },
  {
   "cell_type": "code",
   "execution_count": 31,
   "id": "fba5086b",
   "metadata": {},
   "outputs": [
    {
     "data": {
      "text/plain": [
       "UniformScaling{Bool}\n",
       "true*I"
      ]
     },
     "execution_count": 31,
     "metadata": {},
     "output_type": "execute_result"
    }
   ],
   "source": [
    "# to use Identity matrice of any size the best Julia offers is \n",
    "using LinearAlgebra\n",
    "I #now julia knows what identity matrix is of any size just use I insteaad of making the size (2,2)"
   ]
  },
  {
   "cell_type": "code",
   "execution_count": 33,
   "id": "89a3f457",
   "metadata": {},
   "outputs": [
    {
     "data": {
      "text/plain": [
       "MersenneTwister(1234)"
      ]
     },
     "execution_count": 33,
     "metadata": {},
     "output_type": "execute_result"
    }
   ],
   "source": [
    "#julia also has np.random.seed(12) equivalent as\n",
    "Random.seed!(1234)"
   ]
  },
  {
   "cell_type": "code",
   "execution_count": 34,
   "id": "b42e68ea",
   "metadata": {},
   "outputs": [
    {
     "data": {
      "text/plain": [
       "2-element Vector{Float64}:\n",
       " 0.5908446386657102\n",
       " 0.7667970365022592"
      ]
     },
     "execution_count": 34,
     "metadata": {},
     "output_type": "execute_result"
    }
   ],
   "source": [
    "rand(2)"
   ]
  },
  {
   "cell_type": "code",
   "execution_count": 35,
   "id": "24d1c8a3",
   "metadata": {},
   "outputs": [
    {
     "data": {
      "text/plain": [
       "2-element Vector{Float64}:\n",
       " 0.5662374165061859\n",
       " 0.4600853424625171"
      ]
     },
     "execution_count": 35,
     "metadata": {},
     "output_type": "execute_result"
    }
   ],
   "source": [
    "rand(2) #we need to initialize the seed everytime we create a new random item"
   ]
  },
  {
   "cell_type": "code",
   "execution_count": 36,
   "id": "2c310759",
   "metadata": {},
   "outputs": [
    {
     "data": {
      "text/plain": [
       "MersenneTwister(1234)"
      ]
     },
     "execution_count": 36,
     "metadata": {},
     "output_type": "execute_result"
    }
   ],
   "source": [
    "Random.seed!(1234)"
   ]
  },
  {
   "cell_type": "code",
   "execution_count": 43,
   "id": "76287fd8",
   "metadata": {},
   "outputs": [
    {
     "data": {
      "text/plain": [
       "2×4 Matrix{Float64}:\n",
       " 0.794026  0.200586  0.246837  0.648882\n",
       " 0.854147  0.298614  0.579672  0.0109059"
      ]
     },
     "execution_count": 43,
     "metadata": {},
     "output_type": "execute_result"
    }
   ],
   "source": [
    "c = rand(2,4)"
   ]
  },
  {
   "cell_type": "code",
   "execution_count": 44,
   "id": "409ac751",
   "metadata": {},
   "outputs": [
    {
     "data": {
      "text/plain": [
       "(2, 4)"
      ]
     },
     "execution_count": 44,
     "metadata": {},
     "output_type": "execute_result"
    }
   ],
   "source": [
    "size(c) #size is the shape in Julia\n"
   ]
  },
  {
   "cell_type": "code",
   "execution_count": 46,
   "id": "6372845f",
   "metadata": {},
   "outputs": [
    {
     "data": {
      "text/plain": [
       "4-element Vector{Int64}:\n",
       " 1\n",
       " 3\n",
       " 4\n",
       " 5"
      ]
     },
     "execution_count": 46,
     "metadata": {},
     "output_type": "execute_result"
    }
   ],
   "source": [
    "A = [1,3 ,4, 5]"
   ]
  },
  {
   "cell_type": "code",
   "execution_count": 47,
   "id": "aa9126b0",
   "metadata": {},
   "outputs": [
    {
     "data": {
      "text/plain": [
       "3"
      ]
     },
     "execution_count": 47,
     "metadata": {},
     "output_type": "execute_result"
    }
   ],
   "source": [
    "A[2] #indexing starts with 1 instead of zero"
   ]
  },
  {
   "cell_type": "code",
   "execution_count": 87,
   "id": "8cbe5359",
   "metadata": {},
   "outputs": [
    {
     "data": {
      "text/plain": [
       "5"
      ]
     },
     "execution_count": 87,
     "metadata": {},
     "output_type": "execute_result"
    }
   ],
   "source": [
    "#negative indices doesnt work in julia unlike python, but we have length as a function\n",
    "A[end] #end is basically the last index of Array"
   ]
  },
  {
   "cell_type": "code",
   "execution_count": 50,
   "id": "e8611742",
   "metadata": {},
   "outputs": [
    {
     "data": {
      "text/plain": [
       "4"
      ]
     },
     "execution_count": 50,
     "metadata": {},
     "output_type": "execute_result"
    }
   ],
   "source": [
    "#vector is mutable \n",
    "A[2] = 4"
   ]
  },
  {
   "cell_type": "code",
   "execution_count": 66,
   "id": "cea6f611",
   "metadata": {},
   "outputs": [
    {
     "data": {
      "text/plain": [
       "10-element Vector{Int64}:\n",
       " 0\n",
       " 1\n",
       " 2\n",
       " 3\n",
       " 4\n",
       " 5\n",
       " 6\n",
       " 7\n",
       " 8\n",
       " 9"
      ]
     },
     "execution_count": 66,
     "metadata": {},
     "output_type": "execute_result"
    }
   ],
   "source": [
    "x = [i for i in 0:9]\n"
   ]
  },
  {
   "cell_type": "code",
   "execution_count": 67,
   "id": "cb25013e",
   "metadata": {},
   "outputs": [
    {
     "data": {
      "text/plain": [
       "4-element Vector{Int64}:\n",
       " 0\n",
       " 1\n",
       " 2\n",
       " 3"
      ]
     },
     "execution_count": 67,
     "metadata": {},
     "output_type": "execute_result"
    }
   ],
   "source": [
    "#we can use slicing of arrays \n",
    "x[:3] #if nothing is mentioned in the first index it returns the last value\n",
    "y = x[1:4]"
   ]
  },
  {
   "cell_type": "code",
   "execution_count": 74,
   "id": "1c51af31",
   "metadata": {},
   "outputs": [
    {
     "data": {
      "text/plain": [
       "3×4 Matrix{Int64}:\n",
       " 1   2   3   4\n",
       " 5   6   7   8\n",
       " 9  10  11  12"
      ]
     },
     "execution_count": 74,
     "metadata": {},
     "output_type": "execute_result"
    }
   ],
   "source": [
    "a = [1 2 3 4; 5 6 7 8; 9 10 11 12]"
   ]
  },
  {
   "cell_type": "code",
   "execution_count": 86,
   "id": "dca6d53f",
   "metadata": {},
   "outputs": [
    {
     "data": {
      "text/plain": [
       "3-element Vector{Int64}:\n",
       "  2\n",
       "  6\n",
       " 10"
      ]
     },
     "execution_count": 86,
     "metadata": {},
     "output_type": "execute_result"
    }
   ],
   "source": [
    "a[1:3 , :2] #julia always work columnwise  a[row1 : row 2, Col1 : col2]"
   ]
  },
  {
   "cell_type": "markdown",
   "id": "b3c29965",
   "metadata": {},
   "source": [
    "Concatinating array"
   ]
  },
  {
   "cell_type": "code",
   "execution_count": 88,
   "id": "ecd2ed7f",
   "metadata": {},
   "outputs": [
    {
     "data": {
      "text/plain": [
       "3-element Vector{Float64}:\n",
       " 0.6516642063795697\n",
       " 0.05664246860321187\n",
       " 0.8427136165865521"
      ]
     },
     "execution_count": 88,
     "metadata": {},
     "output_type": "execute_result"
    }
   ],
   "source": [
    "x = rand(5)\n",
    "y= rand(3)"
   ]
  },
  {
   "cell_type": "code",
   "execution_count": 94,
   "id": "7a9af0d9",
   "metadata": {},
   "outputs": [
    {
     "data": {
      "text/plain": [
       "8-element Vector{Float64}:\n",
       " 0.06642303695533736\n",
       " 0.9567533636029237\n",
       " 0.646690981531646\n",
       " 0.11248587118714015\n",
       " 0.2760209506672211\n",
       " 0.6516642063795697\n",
       " 0.05664246860321187\n",
       " 0.8427136165865521"
      ]
     },
     "execution_count": 94,
     "metadata": {},
     "output_type": "execute_result"
    }
   ],
   "source": [
    "#for concatination we use two function either vcat or hcat \n",
    "z= vcat(x,y)"
   ]
  },
  {
   "cell_type": "code",
   "execution_count": 95,
   "id": "96854b24",
   "metadata": {},
   "outputs": [
    {
     "name": "stdout",
     "output_type": "stream",
     "text": [
      "search: \u001b[0m\u001b[1mv\u001b[22m\u001b[0m\u001b[1mc\u001b[22m\u001b[0m\u001b[1ma\u001b[22m\u001b[0m\u001b[1mt\u001b[22m h\u001b[0m\u001b[1mv\u001b[22m\u001b[0m\u001b[1mc\u001b[22m\u001b[0m\u001b[1ma\u001b[22m\u001b[0m\u001b[1mt\u001b[22m \u001b[0m\u001b[1mV\u001b[22me\u001b[0m\u001b[1mc\u001b[22mOrM\u001b[0m\u001b[1ma\u001b[22m\u001b[0m\u001b[1mt\u001b[22m Dense\u001b[0m\u001b[1mV\u001b[22me\u001b[0m\u001b[1mc\u001b[22mOrM\u001b[0m\u001b[1ma\u001b[22m\u001b[0m\u001b[1mt\u001b[22m Strided\u001b[0m\u001b[1mV\u001b[22me\u001b[0m\u001b[1mc\u001b[22mOrM\u001b[0m\u001b[1ma\u001b[22m\u001b[0m\u001b[1mt\u001b[22m Abstract\u001b[0m\u001b[1mV\u001b[22me\u001b[0m\u001b[1mc\u001b[22mOrM\u001b[0m\u001b[1ma\u001b[22m\u001b[0m\u001b[1mt\u001b[22m\n",
      "\n"
     ]
    },
    {
     "data": {
      "text/latex": [
       "\\begin{verbatim}\n",
       "vcat(A...)\n",
       "\\end{verbatim}\n",
       "Concatenate along dimension 1.\n",
       "\n",
       "\\section{Examples}\n",
       "\\begin{verbatim}\n",
       "julia> a = [1 2 3 4 5]\n",
       "1×5 Matrix{Int64}:\n",
       " 1  2  3  4  5\n",
       "\n",
       "julia> b = [6 7 8 9 10; 11 12 13 14 15]\n",
       "2×5 Matrix{Int64}:\n",
       "  6   7   8   9  10\n",
       " 11  12  13  14  15\n",
       "\n",
       "julia> vcat(a,b)\n",
       "3×5 Matrix{Int64}:\n",
       "  1   2   3   4   5\n",
       "  6   7   8   9  10\n",
       " 11  12  13  14  15\n",
       "\n",
       "julia> c = ([1 2 3], [4 5 6])\n",
       "([1 2 3], [4 5 6])\n",
       "\n",
       "julia> vcat(c...)\n",
       "2×3 Matrix{Int64}:\n",
       " 1  2  3\n",
       " 4  5  6\n",
       "\\end{verbatim}\n"
      ],
      "text/markdown": [
       "```\n",
       "vcat(A...)\n",
       "```\n",
       "\n",
       "Concatenate along dimension 1.\n",
       "\n",
       "# Examples\n",
       "\n",
       "```jldoctest\n",
       "julia> a = [1 2 3 4 5]\n",
       "1×5 Matrix{Int64}:\n",
       " 1  2  3  4  5\n",
       "\n",
       "julia> b = [6 7 8 9 10; 11 12 13 14 15]\n",
       "2×5 Matrix{Int64}:\n",
       "  6   7   8   9  10\n",
       " 11  12  13  14  15\n",
       "\n",
       "julia> vcat(a,b)\n",
       "3×5 Matrix{Int64}:\n",
       "  1   2   3   4   5\n",
       "  6   7   8   9  10\n",
       " 11  12  13  14  15\n",
       "\n",
       "julia> c = ([1 2 3], [4 5 6])\n",
       "([1 2 3], [4 5 6])\n",
       "\n",
       "julia> vcat(c...)\n",
       "2×3 Matrix{Int64}:\n",
       " 1  2  3\n",
       " 4  5  6\n",
       "```\n"
      ],
      "text/plain": [
       "\u001b[36m  vcat(A...)\u001b[39m\n",
       "\n",
       "  Concatenate along dimension 1.\n",
       "\n",
       "\u001b[1m  Examples\u001b[22m\n",
       "\u001b[1m  ≡≡≡≡≡≡≡≡≡≡\u001b[22m\n",
       "\n",
       "\u001b[36m  julia> a = [1 2 3 4 5]\u001b[39m\n",
       "\u001b[36m  1×5 Matrix{Int64}:\u001b[39m\n",
       "\u001b[36m   1  2  3  4  5\u001b[39m\n",
       "\u001b[36m  \u001b[39m\n",
       "\u001b[36m  julia> b = [6 7 8 9 10; 11 12 13 14 15]\u001b[39m\n",
       "\u001b[36m  2×5 Matrix{Int64}:\u001b[39m\n",
       "\u001b[36m    6   7   8   9  10\u001b[39m\n",
       "\u001b[36m   11  12  13  14  15\u001b[39m\n",
       "\u001b[36m  \u001b[39m\n",
       "\u001b[36m  julia> vcat(a,b)\u001b[39m\n",
       "\u001b[36m  3×5 Matrix{Int64}:\u001b[39m\n",
       "\u001b[36m    1   2   3   4   5\u001b[39m\n",
       "\u001b[36m    6   7   8   9  10\u001b[39m\n",
       "\u001b[36m   11  12  13  14  15\u001b[39m\n",
       "\u001b[36m  \u001b[39m\n",
       "\u001b[36m  julia> c = ([1 2 3], [4 5 6])\u001b[39m\n",
       "\u001b[36m  ([1 2 3], [4 5 6])\u001b[39m\n",
       "\u001b[36m  \u001b[39m\n",
       "\u001b[36m  julia> vcat(c...)\u001b[39m\n",
       "\u001b[36m  2×3 Matrix{Int64}:\u001b[39m\n",
       "\u001b[36m   1  2  3\u001b[39m\n",
       "\u001b[36m   4  5  6\u001b[39m"
      ]
     },
     "execution_count": 95,
     "metadata": {},
     "output_type": "execute_result"
    }
   ],
   "source": [
    "?vcat"
   ]
  },
  {
   "cell_type": "markdown",
   "id": "7e8a18ea",
   "metadata": {},
   "source": [
    "## DataFrames"
   ]
  },
  {
   "cell_type": "code",
   "execution_count": 96,
   "id": "d512cbc2",
   "metadata": {},
   "outputs": [],
   "source": [
    "using DataFrames"
   ]
  },
  {
   "cell_type": "code",
   "execution_count": 98,
   "id": "1099c4e1",
   "metadata": {},
   "outputs": [
    {
     "data": {
      "text/html": [
       "<table class=\"data-frame\"><thead><tr><th></th><th>A</th><th>B</th></tr><tr><th></th><th>Int64</th><th>String</th></tr></thead><tbody><p>4 rows × 2 columns</p><tr><th>1</th><td>1</td><td>A</td></tr><tr><th>2</th><td>2</td><td>B</td></tr><tr><th>3</th><td>3</td><td>c</td></tr><tr><th>4</th><td>4</td><td>D</td></tr></tbody></table>"
      ],
      "text/latex": [
       "\\begin{tabular}{r|cc}\n",
       "\t& A & B\\\\\n",
       "\t\\hline\n",
       "\t& Int64 & String\\\\\n",
       "\t\\hline\n",
       "\t1 & 1 & A \\\\\n",
       "\t2 & 2 & B \\\\\n",
       "\t3 & 3 & c \\\\\n",
       "\t4 & 4 & D \\\\\n",
       "\\end{tabular}\n"
      ],
      "text/plain": [
       "\u001b[1m4×2 DataFrame\u001b[0m\n",
       "\u001b[1m Row \u001b[0m│\u001b[1m A     \u001b[0m\u001b[1m B      \u001b[0m\n",
       "\u001b[1m     \u001b[0m│\u001b[90m Int64 \u001b[0m\u001b[90m String \u001b[0m\n",
       "─────┼───────────────\n",
       "   1 │     1  A\n",
       "   2 │     2  B\n",
       "   3 │     3  c\n",
       "   4 │     4  D"
      ]
     },
     "execution_count": 98,
     "metadata": {},
     "output_type": "execute_result"
    }
   ],
   "source": [
    "#we can create a dataframe from plenty of things, lets start with dictionary\n",
    "df = DataFrame(A = 1:4, B = [\"A\",\"B\", \"c\", \"D\" ])"
   ]
  },
  {
   "cell_type": "code",
   "execution_count": 102,
   "id": "e15771b4",
   "metadata": {},
   "outputs": [
    {
     "data": {
      "text/plain": [
       "4-element Vector{Int64}:\n",
       " 1\n",
       " 2\n",
       " 3\n",
       " 4"
      ]
     },
     "execution_count": 102,
     "metadata": {},
     "output_type": "execute_result"
    }
   ],
   "source": [
    "df.A #to access any column directly or use df[!, :col]\n",
    "df[!, :A] # this does not make a copy so any changes will be reflected"
   ]
  },
  {
   "cell_type": "code",
   "execution_count": 104,
   "id": "484047d3",
   "metadata": {},
   "outputs": [
    {
     "data": {
      "text/plain": [
       "5"
      ]
     },
     "execution_count": 104,
     "metadata": {},
     "output_type": "execute_result"
    }
   ],
   "source": [
    "df[:, :A][1] = 5 #see this doesnt change anything creating a copy"
   ]
  },
  {
   "cell_type": "code",
   "execution_count": 106,
   "id": "d40c8f12",
   "metadata": {},
   "outputs": [
    {
     "data": {
      "text/plain": [
       "5"
      ]
     },
     "execution_count": 106,
     "metadata": {},
     "output_type": "execute_result"
    }
   ],
   "source": [
    "df[!, :A][1] = 5"
   ]
  },
  {
   "cell_type": "code",
   "execution_count": 107,
   "id": "96f1a74f",
   "metadata": {},
   "outputs": [
    {
     "data": {
      "text/html": [
       "<table class=\"data-frame\"><thead><tr><th></th><th>A</th><th>B</th></tr><tr><th></th><th>Int64</th><th>String</th></tr></thead><tbody><p>4 rows × 2 columns</p><tr><th>1</th><td>5</td><td>A</td></tr><tr><th>2</th><td>2</td><td>B</td></tr><tr><th>3</th><td>3</td><td>c</td></tr><tr><th>4</th><td>4</td><td>D</td></tr></tbody></table>"
      ],
      "text/latex": [
       "\\begin{tabular}{r|cc}\n",
       "\t& A & B\\\\\n",
       "\t\\hline\n",
       "\t& Int64 & String\\\\\n",
       "\t\\hline\n",
       "\t1 & 5 & A \\\\\n",
       "\t2 & 2 & B \\\\\n",
       "\t3 & 3 & c \\\\\n",
       "\t4 & 4 & D \\\\\n",
       "\\end{tabular}\n"
      ],
      "text/plain": [
       "\u001b[1m4×2 DataFrame\u001b[0m\n",
       "\u001b[1m Row \u001b[0m│\u001b[1m A     \u001b[0m\u001b[1m B      \u001b[0m\n",
       "\u001b[1m     \u001b[0m│\u001b[90m Int64 \u001b[0m\u001b[90m String \u001b[0m\n",
       "─────┼───────────────\n",
       "   1 │     5  A\n",
       "   2 │     2  B\n",
       "   3 │     3  c\n",
       "   4 │     4  D"
      ]
     },
     "execution_count": 107,
     "metadata": {},
     "output_type": "execute_result"
    }
   ],
   "source": [
    "df"
   ]
  },
  {
   "cell_type": "code",
   "execution_count": 108,
   "id": "2459e995",
   "metadata": {},
   "outputs": [
    {
     "data": {
      "text/plain": [
       "(4, 2)"
      ]
     },
     "execution_count": 108,
     "metadata": {},
     "output_type": "execute_result"
    }
   ],
   "source": [
    "size(df)\n"
   ]
  },
  {
   "cell_type": "code",
   "execution_count": 110,
   "id": "f6a57e4d",
   "metadata": {},
   "outputs": [
    {
     "data": {
      "text/html": [
       "<table class=\"data-frame\"><thead><tr><th></th><th>A</th><th>B</th></tr><tr><th></th><th>Int64</th><th>String</th></tr></thead><tbody><p>1 rows × 2 columns</p><tr><th>1</th><td>1</td><td>m</td></tr></tbody></table>"
      ],
      "text/latex": [
       "\\begin{tabular}{r|cc}\n",
       "\t& A & B\\\\\n",
       "\t\\hline\n",
       "\t& Int64 & String\\\\\n",
       "\t\\hline\n",
       "\t1 & 1 & m \\\\\n",
       "\\end{tabular}\n"
      ],
      "text/plain": [
       "\u001b[1m1×2 DataFrame\u001b[0m\n",
       "\u001b[1m Row \u001b[0m│\u001b[1m A     \u001b[0m\u001b[1m B      \u001b[0m\n",
       "\u001b[1m     \u001b[0m│\u001b[90m Int64 \u001b[0m\u001b[90m String \u001b[0m\n",
       "─────┼───────────────\n",
       "   1 │     1  m"
      ]
     },
     "execution_count": 110,
     "metadata": {},
     "output_type": "execute_result"
    }
   ],
   "source": [
    "#in case we want to start with nothing \n",
    "df1 = DataFrame(A= Int[], B=  String[])\n",
    "push!(df1, [1, \"m\"]) #can push tuple or vectors"
   ]
  },
  {
   "cell_type": "code",
   "execution_count": 112,
   "id": "946ee2ab",
   "metadata": {},
   "outputs": [
    {
     "data": {
      "text/html": [
       "<table class=\"data-frame\"><thead><tr><th></th><th>A</th><th>B</th></tr><tr><th></th><th>Int64</th><th>String</th></tr></thead><tbody><p>5 rows × 2 columns</p><tr><th>1</th><td>5</td><td>A</td></tr><tr><th>2</th><td>2</td><td>B</td></tr><tr><th>3</th><td>3</td><td>c</td></tr><tr><th>4</th><td>4</td><td>D</td></tr><tr><th>5</th><td>1</td><td>m</td></tr></tbody></table>"
      ],
      "text/latex": [
       "\\begin{tabular}{r|cc}\n",
       "\t& A & B\\\\\n",
       "\t\\hline\n",
       "\t& Int64 & String\\\\\n",
       "\t\\hline\n",
       "\t1 & 5 & A \\\\\n",
       "\t2 & 2 & B \\\\\n",
       "\t3 & 3 & c \\\\\n",
       "\t4 & 4 & D \\\\\n",
       "\t5 & 1 & m \\\\\n",
       "\\end{tabular}\n"
      ],
      "text/plain": [
       "\u001b[1m5×2 DataFrame\u001b[0m\n",
       "\u001b[1m Row \u001b[0m│\u001b[1m A     \u001b[0m\u001b[1m B      \u001b[0m\n",
       "\u001b[1m     \u001b[0m│\u001b[90m Int64 \u001b[0m\u001b[90m String \u001b[0m\n",
       "─────┼───────────────\n",
       "   1 │     5  A\n",
       "   2 │     2  B\n",
       "   3 │     3  c\n",
       "   4 │     4  D\n",
       "   5 │     1  m"
      ]
     },
     "execution_count": 112,
     "metadata": {},
     "output_type": "execute_result"
    }
   ],
   "source": [
    "df"
   ]
  },
  {
   "cell_type": "code",
   "execution_count": 111,
   "id": "ce4f5f5e",
   "metadata": {},
   "outputs": [
    {
     "data": {
      "text/html": [
       "<table class=\"data-frame\"><thead><tr><th></th><th>variable</th><th>mean</th><th>min</th><th>median</th><th>max</th><th>nmissing</th><th>eltype</th></tr><tr><th></th><th>Symbol</th><th>Union…</th><th>Any</th><th>Union…</th><th>Any</th><th>Int64</th><th>DataType</th></tr></thead><tbody><p>2 rows × 7 columns</p><tr><th>1</th><td>A</td><td>3.0</td><td>1</td><td>3.0</td><td>5</td><td>0</td><td>Int64</td></tr><tr><th>2</th><td>B</td><td></td><td>A</td><td></td><td>m</td><td>0</td><td>String</td></tr></tbody></table>"
      ],
      "text/latex": [
       "\\begin{tabular}{r|ccccccc}\n",
       "\t& variable & mean & min & median & max & nmissing & eltype\\\\\n",
       "\t\\hline\n",
       "\t& Symbol & Union… & Any & Union… & Any & Int64 & DataType\\\\\n",
       "\t\\hline\n",
       "\t1 & A & 3.0 & 1 & 3.0 & 5 & 0 & Int64 \\\\\n",
       "\t2 & B &  & A &  & m & 0 & String \\\\\n",
       "\\end{tabular}\n"
      ],
      "text/plain": [
       "\u001b[1m2×7 DataFrame\u001b[0m\n",
       "\u001b[1m Row \u001b[0m│\u001b[1m variable \u001b[0m\u001b[1m mean   \u001b[0m\u001b[1m min \u001b[0m\u001b[1m median \u001b[0m\u001b[1m max \u001b[0m\u001b[1m nmissing \u001b[0m\u001b[1m eltype   \u001b[0m\n",
       "\u001b[1m     \u001b[0m│\u001b[90m Symbol   \u001b[0m\u001b[90m Union… \u001b[0m\u001b[90m Any \u001b[0m\u001b[90m Union… \u001b[0m\u001b[90m Any \u001b[0m\u001b[90m Int64    \u001b[0m\u001b[90m DataType \u001b[0m\n",
       "─────┼────────────────────────────────────────────────────────\n",
       "   1 │ A         3.0     1    3.0     5           0  Int64\n",
       "   2 │ B        \u001b[90m        \u001b[0m A   \u001b[90m        \u001b[0m m           0  String"
      ]
     },
     "execution_count": 111,
     "metadata": {},
     "output_type": "execute_result"
    }
   ],
   "source": [
    "#we describe\n",
    "describe(df)"
   ]
  },
  {
   "cell_type": "code",
   "execution_count": 118,
   "id": "12c84718",
   "metadata": {},
   "outputs": [
    {
     "data": {
      "text/plain": [
       "1:3:100"
      ]
     },
     "execution_count": 118,
     "metadata": {},
     "output_type": "execute_result"
    }
   ],
   "source": [
    "A = 1:3:100 #similar to np.arrange()"
   ]
  },
  {
   "cell_type": "code",
   "execution_count": 119,
   "id": "aed86c6f",
   "metadata": {
    "collapsed": true
   },
   "outputs": [
    {
     "name": "stdout",
     "output_type": "stream",
     "text": [
      "1\n",
      "4\n",
      "7\n",
      "10\n",
      "13\n",
      "16\n",
      "19\n",
      "22\n",
      "25\n",
      "28\n",
      "31\n",
      "34\n",
      "37\n",
      "40\n",
      "43\n",
      "46\n",
      "49\n",
      "52\n",
      "55\n",
      "58\n",
      "61\n",
      "64\n",
      "67\n",
      "70\n",
      "73\n",
      "76\n",
      "79\n",
      "82\n",
      "85\n",
      "88\n",
      "91\n",
      "94\n",
      "97\n",
      "100\n"
     ]
    }
   ],
   "source": [
    "for i in A\n",
    "    println(i)\n",
    "end"
   ]
  },
  {
   "cell_type": "code",
   "execution_count": 120,
   "id": "b7493144",
   "metadata": {},
   "outputs": [
    {
     "data": {
      "text/plain": [
       "3-element Vector{Union{Missing, Int64}}:\n",
       " 1\n",
       " 2\n",
       "  missing"
      ]
     },
     "execution_count": 120,
     "metadata": {},
     "output_type": "execute_result"
    }
   ],
   "source": [
    "#NA or null values are represented by the object `missing` \n",
    "a = [1 , 2 , missing]"
   ]
  },
  {
   "cell_type": "code",
   "execution_count": 121,
   "id": "6b898726",
   "metadata": {},
   "outputs": [
    {
     "data": {
      "text/plain": [
       "skipmissing(Union{Missing, Int64}[1, 2, missing])"
      ]
     },
     "execution_count": 121,
     "metadata": {},
     "output_type": "execute_result"
    }
   ],
   "source": [
    "# now we can use an iterator skipmissing to perform operations\n",
    "skipmissing(a)"
   ]
  },
  {
   "cell_type": "code",
   "execution_count": 122,
   "id": "3ce7d8b8",
   "metadata": {},
   "outputs": [
    {
     "data": {
      "text/plain": [
       "3"
      ]
     },
     "execution_count": 122,
     "metadata": {},
     "output_type": "execute_result"
    }
   ],
   "source": [
    "#we can sum the values of non missing characters \n",
    "sum(skipmissing(a))"
   ]
  },
  {
   "cell_type": "code",
   "execution_count": 123,
   "id": "59d215b6",
   "metadata": {},
   "outputs": [
    {
     "data": {
      "text/plain": [
       "2-element Vector{Int64}:\n",
       " 1\n",
       " 2"
      ]
     },
     "execution_count": 123,
     "metadata": {},
     "output_type": "execute_result"
    }
   ],
   "source": [
    "collect(skipmissing(a))"
   ]
  },
  {
   "cell_type": "code",
   "execution_count": 125,
   "id": "30506966",
   "metadata": {},
   "outputs": [
    {
     "data": {
      "text/plain": [
       "3-element Vector{Int64}:\n",
       " 1\n",
       " 2\n",
       " 0"
      ]
     },
     "execution_count": 125,
     "metadata": {},
     "output_type": "execute_result"
    }
   ],
   "source": [
    "#to  replace the missing value we use (using broadcasting)\n",
    "coalesce.(a, 0)"
   ]
  },
  {
   "cell_type": "code",
   "execution_count": 126,
   "id": "678cc708",
   "metadata": {},
   "outputs": [
    {
     "data": {
      "text/html": [
       "<table class=\"data-frame\"><thead><tr><th></th><th>a</th><th>x</th><th>y</th></tr><tr><th></th><th>Int64</th><th>Int64?</th><th>String?</th></tr></thead><tbody><p>5 rows × 3 columns</p><tr><th>1</th><td>1</td><td><em>missing</em></td><td><em>missing</em></td></tr><tr><th>2</th><td>2</td><td>4</td><td><em>missing</em></td></tr><tr><th>3</th><td>3</td><td><em>missing</em></td><td>c</td></tr><tr><th>4</th><td>4</td><td>2</td><td>d</td></tr><tr><th>5</th><td>5</td><td>1</td><td>e</td></tr></tbody></table>"
      ],
      "text/latex": [
       "\\begin{tabular}{r|ccc}\n",
       "\t& a & x & y\\\\\n",
       "\t\\hline\n",
       "\t& Int64 & Int64? & String?\\\\\n",
       "\t\\hline\n",
       "\t1 & 1 & \\emph{missing} & \\emph{missing} \\\\\n",
       "\t2 & 2 & 4 & \\emph{missing} \\\\\n",
       "\t3 & 3 & \\emph{missing} & c \\\\\n",
       "\t4 & 4 & 2 & d \\\\\n",
       "\t5 & 5 & 1 & e \\\\\n",
       "\\end{tabular}\n"
      ],
      "text/plain": [
       "\u001b[1m5×3 DataFrame\u001b[0m\n",
       "\u001b[1m Row \u001b[0m│\u001b[1m a     \u001b[0m\u001b[1m x       \u001b[0m\u001b[1m y       \u001b[0m\n",
       "\u001b[1m     \u001b[0m│\u001b[90m Int64 \u001b[0m\u001b[90m Int64?  \u001b[0m\u001b[90m String? \u001b[0m\n",
       "─────┼─────────────────────────\n",
       "   1 │     1 \u001b[90m missing \u001b[0m\u001b[90m missing \u001b[0m\n",
       "   2 │     2        4 \u001b[90m missing \u001b[0m\n",
       "   3 │     3 \u001b[90m missing \u001b[0m c\n",
       "   4 │     4        2  d\n",
       "   5 │     5        1  e"
      ]
     },
     "execution_count": 126,
     "metadata": {},
     "output_type": "execute_result"
    }
   ],
   "source": [
    "#for example we have a database with missing values in it\n",
    "df1 = DataFrame(a = 1:5,x = [missing, 4, missing, 2, 1], y= y = [missing, missing, \"c\", \"d\", \"e\"])\n"
   ]
  },
  {
   "cell_type": "code",
   "execution_count": 130,
   "id": "20b49410",
   "metadata": {},
   "outputs": [
    {
     "data": {
      "text/html": [
       "<table class=\"data-frame\"><thead><tr><th></th><th>a</th><th>x</th><th>y</th></tr><tr><th></th><th>Int64</th><th>Int64</th><th>String?</th></tr></thead><tbody><p>3 rows × 3 columns</p><tr><th>1</th><td>2</td><td>4</td><td><em>missing</em></td></tr><tr><th>2</th><td>4</td><td>2</td><td>d</td></tr><tr><th>3</th><td>5</td><td>1</td><td>e</td></tr></tbody></table>"
      ],
      "text/latex": [
       "\\begin{tabular}{r|ccc}\n",
       "\t& a & x & y\\\\\n",
       "\t\\hline\n",
       "\t& Int64 & Int64 & String?\\\\\n",
       "\t\\hline\n",
       "\t1 & 2 & 4 & \\emph{missing} \\\\\n",
       "\t2 & 4 & 2 & d \\\\\n",
       "\t3 & 5 & 1 & e \\\\\n",
       "\\end{tabular}\n"
      ],
      "text/plain": [
       "\u001b[1m3×3 DataFrame\u001b[0m\n",
       "\u001b[1m Row \u001b[0m│\u001b[1m a     \u001b[0m\u001b[1m x     \u001b[0m\u001b[1m y       \u001b[0m\n",
       "\u001b[1m     \u001b[0m│\u001b[90m Int64 \u001b[0m\u001b[90m Int64 \u001b[0m\u001b[90m String? \u001b[0m\n",
       "─────┼───────────────────────\n",
       "   1 │     2      4 \u001b[90m missing \u001b[0m\n",
       "   2 │     4      2  d\n",
       "   3 │     5      1  e"
      ]
     },
     "execution_count": 130,
     "metadata": {},
     "output_type": "execute_result"
    }
   ],
   "source": [
    "#similar to dropna we have \n",
    "dropmissing(df1) #drops every row including missing\n",
    "# or use specific cols to drop\n",
    "dropmissing(df1, [:x])"
   ]
  },
  {
   "cell_type": "code",
   "execution_count": 131,
   "id": "3e27d4fb",
   "metadata": {},
   "outputs": [
    {
     "name": "stderr",
     "output_type": "stream",
     "text": [
      "\u001b[32m\u001b[1m   Resolving\u001b[22m\u001b[39m package versions...\n",
      "\u001b[32m\u001b[1m    Updating\u001b[22m\u001b[39m `C:\\Users\\Nihal\\.julia\\environments\\v1.6\\Project.toml`\n",
      " \u001b[90m [e1d29d7a] \u001b[39m\u001b[92m+ Missings v0.4.5\u001b[39m\n",
      "\u001b[32m\u001b[1m  No Changes\u001b[22m\u001b[39m to `C:\\Users\\Nihal\\.julia\\environments\\v1.6\\Manifest.toml`\n"
     ]
    }
   ],
   "source": [
    "# we need to install missings to use more features \n",
    "Pkg.add(\"Missings\")"
   ]
  },
  {
   "cell_type": "code",
   "execution_count": 137,
   "id": "8057ef88",
   "metadata": {},
   "outputs": [
    {
     "data": {
      "text/plain": [
       "5-element Vector{Float64}:\n",
       " 0.06642303695533736\n",
       " 0.9567533636029237\n",
       " 0.646690981531646\n",
       " 0.11248587118714015\n",
       " 0.2760209506672211"
      ]
     },
     "execution_count": 137,
     "metadata": {},
     "output_type": "execute_result"
    }
   ],
   "source": [
    "#now we have more features from missing and replace na type\n",
    "collect(Missings.replace(x, 1)) # collect is used to return an array of all items in iterator or collection"
   ]
  },
  {
   "cell_type": "code",
   "execution_count": 135,
   "id": "4fbaf682",
   "metadata": {},
   "outputs": [
    {
     "data": {
      "text/html": [
       "<table class=\"data-frame\"><thead><tr><th></th><th>a</th><th>x</th><th>y</th></tr><tr><th></th><th>Int64</th><th>Int64?</th><th>String?</th></tr></thead><tbody><p>5 rows × 3 columns</p><tr><th>1</th><td>1</td><td><em>missing</em></td><td><em>missing</em></td></tr><tr><th>2</th><td>2</td><td>4</td><td><em>missing</em></td></tr><tr><th>3</th><td>3</td><td><em>missing</em></td><td>c</td></tr><tr><th>4</th><td>4</td><td>2</td><td>d</td></tr><tr><th>5</th><td>5</td><td>1</td><td>e</td></tr></tbody></table>"
      ],
      "text/latex": [
       "\\begin{tabular}{r|ccc}\n",
       "\t& a & x & y\\\\\n",
       "\t\\hline\n",
       "\t& Int64 & Int64? & String?\\\\\n",
       "\t\\hline\n",
       "\t1 & 1 & \\emph{missing} & \\emph{missing} \\\\\n",
       "\t2 & 2 & 4 & \\emph{missing} \\\\\n",
       "\t3 & 3 & \\emph{missing} & c \\\\\n",
       "\t4 & 4 & 2 & d \\\\\n",
       "\t5 & 5 & 1 & e \\\\\n",
       "\\end{tabular}\n"
      ],
      "text/plain": [
       "\u001b[1m5×3 DataFrame\u001b[0m\n",
       "\u001b[1m Row \u001b[0m│\u001b[1m a     \u001b[0m\u001b[1m x       \u001b[0m\u001b[1m y       \u001b[0m\n",
       "\u001b[1m     \u001b[0m│\u001b[90m Int64 \u001b[0m\u001b[90m Int64?  \u001b[0m\u001b[90m String? \u001b[0m\n",
       "─────┼─────────────────────────\n",
       "   1 │     1 \u001b[90m missing \u001b[0m\u001b[90m missing \u001b[0m\n",
       "   2 │     2        4 \u001b[90m missing \u001b[0m\n",
       "   3 │     3 \u001b[90m missing \u001b[0m c\n",
       "   4 │     4        2  d\n",
       "   5 │     5        1  e"
      ]
     },
     "execution_count": 135,
     "metadata": {},
     "output_type": "execute_result"
    }
   ],
   "source": [
    "df1"
   ]
  },
  {
   "cell_type": "code",
   "execution_count": 138,
   "id": "892eafe3",
   "metadata": {},
   "outputs": [],
   "source": [
    "#now we use some data \n",
    "using CSV"
   ]
  },
  {
   "cell_type": "code",
   "execution_count": 147,
   "id": "038f7596",
   "metadata": {
    "collapsed": true
   },
   "outputs": [
    {
     "data": {
      "text/html": [
       "<table class=\"data-frame\"><thead><tr><th></th><th>Column1</th><th>Subbrand</th><th>Month</th><th>Sales</th><th>PCV</th><th>Price</th><th>Digital</th></tr><tr><th></th><th>Int64</th><th>String</th><th>Date…</th><th>Float64</th><th>Float64</th><th>Float64</th><th>Float64</th></tr></thead><tbody><p>387 rows × 29 columns (omitted printing of 22 columns)</p><tr><th>1</th><td>0</td><td>HORLICKS LITE</td><td>2015-09-01</td><td>5062.1</td><td>23.6</td><td>533.336</td><td>0.048225</td></tr><tr><th>2</th><td>1</td><td>WOMENS HORLICKS</td><td>2015-09-01</td><td>24768.0</td><td>30.4</td><td>494.848</td><td>0.0614169</td></tr><tr><th>3</th><td>2</td><td>HORLICKS HEALTH AND NUTRITION</td><td>2015-09-01</td><td>41876.0</td><td>43.0</td><td>480.951</td><td>0.183233</td></tr><tr><th>4</th><td>3</td><td>BOOST HEALTH AND ENERGY</td><td>2015-09-01</td><td>4404.3</td><td>11.1</td><td>399.973</td><td>0.0436677</td></tr><tr><th>5</th><td>4</td><td>BOOST SPORTS</td><td>2015-09-01</td><td>4386.6</td><td>19.9</td><td>399.991</td><td>0.050328</td></tr><tr><th>6</th><td>5</td><td>BOURNVITA PROHEALTH</td><td>2015-09-01</td><td>21819.7</td><td>31.9</td><td>608.583</td><td>0.200869</td></tr><tr><th>7</th><td>6</td><td>COMPLAN ROYALE CHOCOLATE</td><td>2015-09-01</td><td>1211.4</td><td>4.7</td><td>596.417</td><td>0.189057</td></tr><tr><th>8</th><td>7</td><td>AMUL PRO WHEY</td><td>2015-09-01</td><td>366.3</td><td>3.9</td><td>678.679</td><td>0.0750112</td></tr><tr><th>9</th><td>8</td><td>MILO ACTIVE GO</td><td>2015-09-01</td><td>5137.2</td><td>19.1</td><td>610.586</td><td>0.117705</td></tr><tr><th>10</th><td>9</td><td>HORLICKS LITE</td><td>2015-10-01</td><td>4429.3</td><td>25.2</td><td>533.335</td><td>0.0243973</td></tr><tr><th>11</th><td>10</td><td>WOMENS HORLICKS</td><td>2015-10-01</td><td>24246.9</td><td>28.4</td><td>414.643</td><td>0.0981881</td></tr><tr><th>12</th><td>11</td><td>HORLICKS HEALTH AND NUTRITION</td><td>2015-10-01</td><td>43054.9</td><td>42.9</td><td>478.582</td><td>0.0922618</td></tr><tr><th>13</th><td>12</td><td>BOOST HEALTH AND ENERGY</td><td>2015-10-01</td><td>4013.7</td><td>20.5</td><td>400.005</td><td>0.0564335</td></tr><tr><th>14</th><td>13</td><td>BOOST SPORTS</td><td>2015-10-01</td><td>4376.6</td><td>21.4</td><td>533.382</td><td>0.0509357</td></tr><tr><th>15</th><td>14</td><td>BOURNVITA PROHEALTH</td><td>2015-10-01</td><td>23645.2</td><td>30.5</td><td>632.585</td><td>0.200869</td></tr><tr><th>16</th><td>15</td><td>COMPLAN ROYALE CHOCOLATE</td><td>2015-10-01</td><td>1293.2</td><td>4.8</td><td>597.819</td><td>0.194908</td></tr><tr><th>17</th><td>16</td><td>AMUL PRO WHEY</td><td>2015-10-01</td><td>307.4</td><td>4.6</td><td>743.331</td><td>0.0717708</td></tr><tr><th>18</th><td>17</td><td>MILO ACTIVE GO</td><td>2015-10-01</td><td>4732.2</td><td>18.6</td><td>563.142</td><td>0.154094</td></tr><tr><th>19</th><td>18</td><td>HORLICKS LITE</td><td>2015-11-01</td><td>5177.7</td><td>27.9</td><td>533.326</td><td>0.0299014</td></tr><tr><th>20</th><td>19</td><td>WOMENS HORLICKS</td><td>2015-11-01</td><td>27884.9</td><td>35.1</td><td>490.85</td><td>0.13648</td></tr><tr><th>21</th><td>20</td><td>HORLICKS HEALTH AND NUTRITION</td><td>2015-11-01</td><td>41136.0</td><td>47.0</td><td>481.595</td><td>0.0873992</td></tr><tr><th>22</th><td>21</td><td>BOOST HEALTH AND ENERGY</td><td>2015-11-01</td><td>4566.1</td><td>24.0</td><td>399.991</td><td>0.0724571</td></tr><tr><th>23</th><td>22</td><td>BOOST SPORTS</td><td>2015-11-01</td><td>4654.7</td><td>33.6</td><td>564.556</td><td>0.0463769</td></tr><tr><th>24</th><td>23</td><td>BOURNVITA PROHEALTH</td><td>2015-11-01</td><td>21085.0</td><td>34.8</td><td>623.073</td><td>0.404613</td></tr><tr><th>25</th><td>24</td><td>COMPLAN ROYALE CHOCOLATE</td><td>2015-11-01</td><td>1385.2</td><td>5.0</td><td>598.181</td><td>0.175675</td></tr><tr><th>26</th><td>25</td><td>AMUL PRO WHEY</td><td>2015-11-01</td><td>344.4</td><td>3.9</td><td>647.793</td><td>0.100816</td></tr><tr><th>27</th><td>26</td><td>MILO ACTIVE GO</td><td>2015-11-01</td><td>4421.4</td><td>18.8</td><td>598.227</td><td>0.0792513</td></tr><tr><th>28</th><td>27</td><td>HORLICKS LITE</td><td>2015-12-01</td><td>5557.4</td><td>23.4</td><td>533.631</td><td>0.0437735</td></tr><tr><th>29</th><td>28</td><td>WOMENS HORLICKS</td><td>2015-12-01</td><td>28098.6</td><td>32.1</td><td>488.701</td><td>0.0650516</td></tr><tr><th>30</th><td>29</td><td>HORLICKS HEALTH AND NUTRITION</td><td>2015-12-01</td><td>48380.7</td><td>43.1</td><td>479.673</td><td>0.0830188</td></tr><tr><th>&vellip;</th><td>&vellip;</td><td>&vellip;</td><td>&vellip;</td><td>&vellip;</td><td>&vellip;</td><td>&vellip;</td><td>&vellip;</td></tr></tbody></table>"
      ],
      "text/latex": [
       "\\begin{tabular}{r|cccccccc}\n",
       "\t& Column1 & Subbrand & Month & Sales & PCV & Price & Digital & \\\\\n",
       "\t\\hline\n",
       "\t& Int64 & String & Date… & Float64 & Float64 & Float64 & Float64 & \\\\\n",
       "\t\\hline\n",
       "\t1 & 0 & HORLICKS LITE & 2015-09-01 & 5062.1 & 23.6 & 533.336 & 0.048225 & $\\dots$ \\\\\n",
       "\t2 & 1 & WOMENS HORLICKS & 2015-09-01 & 24768.0 & 30.4 & 494.848 & 0.0614169 & $\\dots$ \\\\\n",
       "\t3 & 2 & HORLICKS HEALTH AND NUTRITION & 2015-09-01 & 41876.0 & 43.0 & 480.951 & 0.183233 & $\\dots$ \\\\\n",
       "\t4 & 3 & BOOST HEALTH AND ENERGY & 2015-09-01 & 4404.3 & 11.1 & 399.973 & 0.0436677 & $\\dots$ \\\\\n",
       "\t5 & 4 & BOOST SPORTS & 2015-09-01 & 4386.6 & 19.9 & 399.991 & 0.050328 & $\\dots$ \\\\\n",
       "\t6 & 5 & BOURNVITA PROHEALTH & 2015-09-01 & 21819.7 & 31.9 & 608.583 & 0.200869 & $\\dots$ \\\\\n",
       "\t7 & 6 & COMPLAN ROYALE CHOCOLATE & 2015-09-01 & 1211.4 & 4.7 & 596.417 & 0.189057 & $\\dots$ \\\\\n",
       "\t8 & 7 & AMUL PRO WHEY & 2015-09-01 & 366.3 & 3.9 & 678.679 & 0.0750112 & $\\dots$ \\\\\n",
       "\t9 & 8 & MILO ACTIVE GO & 2015-09-01 & 5137.2 & 19.1 & 610.586 & 0.117705 & $\\dots$ \\\\\n",
       "\t10 & 9 & HORLICKS LITE & 2015-10-01 & 4429.3 & 25.2 & 533.335 & 0.0243973 & $\\dots$ \\\\\n",
       "\t11 & 10 & WOMENS HORLICKS & 2015-10-01 & 24246.9 & 28.4 & 414.643 & 0.0981881 & $\\dots$ \\\\\n",
       "\t12 & 11 & HORLICKS HEALTH AND NUTRITION & 2015-10-01 & 43054.9 & 42.9 & 478.582 & 0.0922618 & $\\dots$ \\\\\n",
       "\t13 & 12 & BOOST HEALTH AND ENERGY & 2015-10-01 & 4013.7 & 20.5 & 400.005 & 0.0564335 & $\\dots$ \\\\\n",
       "\t14 & 13 & BOOST SPORTS & 2015-10-01 & 4376.6 & 21.4 & 533.382 & 0.0509357 & $\\dots$ \\\\\n",
       "\t15 & 14 & BOURNVITA PROHEALTH & 2015-10-01 & 23645.2 & 30.5 & 632.585 & 0.200869 & $\\dots$ \\\\\n",
       "\t16 & 15 & COMPLAN ROYALE CHOCOLATE & 2015-10-01 & 1293.2 & 4.8 & 597.819 & 0.194908 & $\\dots$ \\\\\n",
       "\t17 & 16 & AMUL PRO WHEY & 2015-10-01 & 307.4 & 4.6 & 743.331 & 0.0717708 & $\\dots$ \\\\\n",
       "\t18 & 17 & MILO ACTIVE GO & 2015-10-01 & 4732.2 & 18.6 & 563.142 & 0.154094 & $\\dots$ \\\\\n",
       "\t19 & 18 & HORLICKS LITE & 2015-11-01 & 5177.7 & 27.9 & 533.326 & 0.0299014 & $\\dots$ \\\\\n",
       "\t20 & 19 & WOMENS HORLICKS & 2015-11-01 & 27884.9 & 35.1 & 490.85 & 0.13648 & $\\dots$ \\\\\n",
       "\t21 & 20 & HORLICKS HEALTH AND NUTRITION & 2015-11-01 & 41136.0 & 47.0 & 481.595 & 0.0873992 & $\\dots$ \\\\\n",
       "\t22 & 21 & BOOST HEALTH AND ENERGY & 2015-11-01 & 4566.1 & 24.0 & 399.991 & 0.0724571 & $\\dots$ \\\\\n",
       "\t23 & 22 & BOOST SPORTS & 2015-11-01 & 4654.7 & 33.6 & 564.556 & 0.0463769 & $\\dots$ \\\\\n",
       "\t24 & 23 & BOURNVITA PROHEALTH & 2015-11-01 & 21085.0 & 34.8 & 623.073 & 0.404613 & $\\dots$ \\\\\n",
       "\t25 & 24 & COMPLAN ROYALE CHOCOLATE & 2015-11-01 & 1385.2 & 5.0 & 598.181 & 0.175675 & $\\dots$ \\\\\n",
       "\t26 & 25 & AMUL PRO WHEY & 2015-11-01 & 344.4 & 3.9 & 647.793 & 0.100816 & $\\dots$ \\\\\n",
       "\t27 & 26 & MILO ACTIVE GO & 2015-11-01 & 4421.4 & 18.8 & 598.227 & 0.0792513 & $\\dots$ \\\\\n",
       "\t28 & 27 & HORLICKS LITE & 2015-12-01 & 5557.4 & 23.4 & 533.631 & 0.0437735 & $\\dots$ \\\\\n",
       "\t29 & 28 & WOMENS HORLICKS & 2015-12-01 & 28098.6 & 32.1 & 488.701 & 0.0650516 & $\\dots$ \\\\\n",
       "\t30 & 29 & HORLICKS HEALTH AND NUTRITION & 2015-12-01 & 48380.7 & 43.1 & 479.673 & 0.0830188 & $\\dots$ \\\\\n",
       "\t$\\dots$ & $\\dots$ & $\\dots$ & $\\dots$ & $\\dots$ & $\\dots$ & $\\dots$ & $\\dots$ &  \\\\\n",
       "\\end{tabular}\n"
      ],
      "text/plain": [
       "\u001b[1m387×29 DataFrame\u001b[0m\n",
       "\u001b[1m Row \u001b[0m│\u001b[1m Column1 \u001b[0m\u001b[1m Subbrand                      \u001b[0m\u001b[1m Month      \u001b[0m\u001b[1m Sales     \u001b[0m\u001b[1m PCV     \u001b[0m ⋯\n",
       "\u001b[1m     \u001b[0m│\u001b[90m Int64   \u001b[0m\u001b[90m String                        \u001b[0m\u001b[90m Date…      \u001b[0m\u001b[90m Float64   \u001b[0m\u001b[90m Float64 \u001b[0m ⋯\n",
       "─────┼──────────────────────────────────────────────────────────────────────────\n",
       "   1 │       0  HORLICKS LITE                  2015-09-01   5062.1    23.6     ⋯\n",
       "   2 │       1  WOMENS HORLICKS                2015-09-01  24768.0    30.4\n",
       "   3 │       2  HORLICKS HEALTH AND NUTRITION  2015-09-01  41876.0    43.0\n",
       "   4 │       3  BOOST HEALTH AND ENERGY        2015-09-01   4404.3    11.1\n",
       "   5 │       4  BOOST SPORTS                   2015-09-01   4386.6    19.9     ⋯\n",
       "   6 │       5  BOURNVITA PROHEALTH            2015-09-01  21819.7    31.9\n",
       "   7 │       6  COMPLAN ROYALE CHOCOLATE       2015-09-01   1211.4     4.7\n",
       "   8 │       7  AMUL PRO WHEY                  2015-09-01    366.3     3.9\n",
       "   9 │       8  MILO ACTIVE GO                 2015-09-01   5137.2    19.1     ⋯\n",
       "  10 │       9  HORLICKS LITE                  2015-10-01   4429.3    25.2\n",
       "  11 │      10  WOMENS HORLICKS                2015-10-01  24246.9    28.4\n",
       "  ⋮  │    ⋮                   ⋮                    ⋮           ⋮         ⋮     ⋱\n",
       " 378 │     377  MILO ACTIVE GO                 2019-02-01   2970.41   12.414\n",
       " 379 │     378  HORLICKS LITE                  2019-03-01   7692.21   24.2744  ⋯\n",
       " 380 │     379  WOMENS HORLICKS                2019-03-01  28557.5    37.6499\n",
       " 381 │     380  HORLICKS HEALTH AND NUTRITION  2019-03-01  51132.4    39.8348\n",
       " 382 │     381  BOOST HEALTH AND ENERGY        2019-03-01   2873.38   13.2678\n",
       " 383 │     382  BOOST SPORTS                   2019-03-01   4702.93   19.1949  ⋯\n",
       " 384 │     383  BOURNVITA PROHEALTH            2019-03-01  23408.0    35.8579\n",
       " 385 │     384  COMPLAN ROYALE CHOCOLATE       2019-03-01   2500.94    9.76141\n",
       " 386 │     385  AMUL PRO WHEY                  2019-03-01    527.055   4.01812\n",
       " 387 │     386  MILO ACTIVE GO                 2019-03-01   3372.12   14.3486  ⋯\n",
       "\u001b[36m                                                 24 columns and 366 rows omitted\u001b[0m"
      ]
     },
     "execution_count": 147,
     "metadata": {},
     "output_type": "execute_result"
    }
   ],
   "source": [
    "iris = (CSV.read(\"C:\\\\Users\\\\Nihal\\\\Brand_Amul.csv\", DataFrame))"
   ]
  },
  {
   "cell_type": "code",
   "execution_count": null,
   "id": "575fda32",
   "metadata": {},
   "outputs": [],
   "source": [
    "#use \\\\ for the path or it wont work"
   ]
  },
  {
   "cell_type": "code",
   "execution_count": 149,
   "id": "6962f268",
   "metadata": {},
   "outputs": [
    {
     "data": {
      "text/html": [
       "<table class=\"data-frame\"><thead><tr><th></th><th>Column1</th><th>Subbrand</th><th>Month</th><th>Sales</th><th>PCV</th><th>Price</th><th>Digital</th></tr><tr><th></th><th>Int64</th><th>String</th><th>Date…</th><th>Float64</th><th>Float64</th><th>Float64</th><th>Float64</th></tr></thead><tbody><p>5 rows × 29 columns (omitted printing of 22 columns)</p><tr><th>1</th><td>0</td><td>HORLICKS LITE</td><td>2015-09-01</td><td>5062.1</td><td>23.6</td><td>533.336</td><td>0.048225</td></tr><tr><th>2</th><td>1</td><td>WOMENS HORLICKS</td><td>2015-09-01</td><td>24768.0</td><td>30.4</td><td>494.848</td><td>0.0614169</td></tr><tr><th>3</th><td>2</td><td>HORLICKS HEALTH AND NUTRITION</td><td>2015-09-01</td><td>41876.0</td><td>43.0</td><td>480.951</td><td>0.183233</td></tr><tr><th>4</th><td>3</td><td>BOOST HEALTH AND ENERGY</td><td>2015-09-01</td><td>4404.3</td><td>11.1</td><td>399.973</td><td>0.0436677</td></tr><tr><th>5</th><td>4</td><td>BOOST SPORTS</td><td>2015-09-01</td><td>4386.6</td><td>19.9</td><td>399.991</td><td>0.050328</td></tr></tbody></table>"
      ],
      "text/latex": [
       "\\begin{tabular}{r|cccccccc}\n",
       "\t& Column1 & Subbrand & Month & Sales & PCV & Price & Digital & \\\\\n",
       "\t\\hline\n",
       "\t& Int64 & String & Date… & Float64 & Float64 & Float64 & Float64 & \\\\\n",
       "\t\\hline\n",
       "\t1 & 0 & HORLICKS LITE & 2015-09-01 & 5062.1 & 23.6 & 533.336 & 0.048225 & $\\dots$ \\\\\n",
       "\t2 & 1 & WOMENS HORLICKS & 2015-09-01 & 24768.0 & 30.4 & 494.848 & 0.0614169 & $\\dots$ \\\\\n",
       "\t3 & 2 & HORLICKS HEALTH AND NUTRITION & 2015-09-01 & 41876.0 & 43.0 & 480.951 & 0.183233 & $\\dots$ \\\\\n",
       "\t4 & 3 & BOOST HEALTH AND ENERGY & 2015-09-01 & 4404.3 & 11.1 & 399.973 & 0.0436677 & $\\dots$ \\\\\n",
       "\t5 & 4 & BOOST SPORTS & 2015-09-01 & 4386.6 & 19.9 & 399.991 & 0.050328 & $\\dots$ \\\\\n",
       "\\end{tabular}\n"
      ],
      "text/plain": [
       "\u001b[1m5×29 DataFrame\u001b[0m\n",
       "\u001b[1m Row \u001b[0m│\u001b[1m Column1 \u001b[0m\u001b[1m Subbrand                      \u001b[0m\u001b[1m Month      \u001b[0m\u001b[1m Sales   \u001b[0m\u001b[1m PCV     \u001b[0m\u001b[1m P\u001b[0m ⋯\n",
       "\u001b[1m     \u001b[0m│\u001b[90m Int64   \u001b[0m\u001b[90m String                        \u001b[0m\u001b[90m Date…      \u001b[0m\u001b[90m Float64 \u001b[0m\u001b[90m Float64 \u001b[0m\u001b[90m F\u001b[0m ⋯\n",
       "─────┼──────────────────────────────────────────────────────────────────────────\n",
       "   1 │       0  HORLICKS LITE                  2015-09-01   5062.1     23.6  5 ⋯\n",
       "   2 │       1  WOMENS HORLICKS                2015-09-01  24768.0     30.4  4\n",
       "   3 │       2  HORLICKS HEALTH AND NUTRITION  2015-09-01  41876.0     43.0  4\n",
       "   4 │       3  BOOST HEALTH AND ENERGY        2015-09-01   4404.3     11.1  3\n",
       "   5 │       4  BOOST SPORTS                   2015-09-01   4386.6     19.9  3 ⋯\n",
       "\u001b[36m                                                              24 columns omitted\u001b[0m"
      ]
     },
     "execution_count": 149,
     "metadata": {},
     "output_type": "execute_result"
    }
   ],
   "source": [
    "first(iris, 5)"
   ]
  },
  {
   "cell_type": "code",
   "execution_count": null,
   "id": "b0de00e2",
   "metadata": {},
   "outputs": [],
   "source": []
  },
  {
   "cell_type": "code",
   "execution_count": null,
   "id": "23c969f9",
   "metadata": {},
   "outputs": [],
   "source": []
  },
  {
   "cell_type": "code",
   "execution_count": null,
   "id": "c0def27d",
   "metadata": {},
   "outputs": [],
   "source": []
  },
  {
   "cell_type": "code",
   "execution_count": null,
   "id": "0e6a60d6",
   "metadata": {},
   "outputs": [],
   "source": []
  },
  {
   "cell_type": "code",
   "execution_count": null,
   "id": "af789e38",
   "metadata": {},
   "outputs": [],
   "source": []
  },
  {
   "cell_type": "code",
   "execution_count": null,
   "id": "96af0cf7",
   "metadata": {},
   "outputs": [],
   "source": []
  }
 ],
 "metadata": {
  "kernelspec": {
   "display_name": "Julia 1.6.0",
   "language": "julia",
   "name": "julia-1.6"
  },
  "language_info": {
   "file_extension": ".jl",
   "mimetype": "application/julia",
   "name": "julia",
   "version": "1.6.0"
  }
 },
 "nbformat": 4,
 "nbformat_minor": 5
}
