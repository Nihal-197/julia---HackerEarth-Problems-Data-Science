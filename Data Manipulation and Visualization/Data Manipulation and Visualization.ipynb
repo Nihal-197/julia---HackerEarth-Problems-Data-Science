{
 "cells": [
  {
   "cell_type": "code",
   "execution_count": 2,
   "id": "7babe8b4",
   "metadata": {
    "collapsed": true
   },
   "outputs": [
    {
     "name": "stderr",
     "output_type": "stream",
     "text": [
      "\u001b[32m\u001b[1m    Updating\u001b[22m\u001b[39m registry at `C:\\Users\\Nihal\\.julia\\registries\\General`\n",
      "\u001b[32m\u001b[1m    Updating\u001b[22m\u001b[39m git-repo `https://github.com/JuliaRegistries/General.git`\n",
      "\u001b[32m\u001b[1m   Resolving\u001b[22m\u001b[39m package versions...\n",
      "\u001b[32m\u001b[1m  No Changes\u001b[22m\u001b[39m to `C:\\Users\\Nihal\\.julia\\environments\\v1.6\\Project.toml`\n",
      "\u001b[32m\u001b[1m  No Changes\u001b[22m\u001b[39m to `C:\\Users\\Nihal\\.julia\\environments\\v1.6\\Manifest.toml`\n"
     ]
    }
   ],
   "source": [
    "using Pkg\n",
    "Pkg.add(\"DataFrames\")\n",
    "Pkg.add(\"PyPlot\") #if you haven't yet\n",
    "Pkg.add(\"StatsPlots\") # using it for hitogram and all the basic things already in Pandas\n",
    "Pkg.add(\"ScikitLearn\") #case sensitive and wont be using it rn in this notebook\n"
   ]
  },
  {
   "cell_type": "code",
   "execution_count": null,
   "id": "d821509d",
   "metadata": {},
   "outputs": [],
   "source": [
    "# before we start with dataframe lets review the arrays and basic numpy things we used to do\n",
    "# Arrays\n"
   ]
  },
  {
   "cell_type": "code",
   "execution_count": 8,
   "id": "b82f4f17",
   "metadata": {},
   "outputs": [
    {
     "data": {
      "text/plain": [
       "3-element Vector{Int64}:\n",
       " 10\n",
       " 20\n",
       " 30"
      ]
     },
     "execution_count": 8,
     "metadata": {},
     "output_type": "execute_result"
    }
   ],
   "source": [
    "A = [10,20,30] #vector "
   ]
  },
  {
   "cell_type": "code",
   "execution_count": 12,
   "id": "14b4a7fc",
   "metadata": {},
   "outputs": [
    {
     "data": {
      "text/plain": [
       "3×4 Matrix{Float64}:\n",
       " 0.620189  0.935652  0.156193  0.0982893\n",
       " 0.165794  0.165596  0.429152  0.246788\n",
       " 0.819437  0.673186  0.334784  0.0868025"
      ]
     },
     "execution_count": 12,
     "metadata": {},
     "output_type": "execute_result"
    }
   ],
   "source": [
    "# we use random for creating some matrices\n",
    "using Random \n",
    "rand(3,4) #= (row, columns)\n"
   ]
  },
  {
   "cell_type": "code",
   "execution_count": 26,
   "id": "fcc5479f",
   "metadata": {},
   "outputs": [
    {
     "data": {
      "text/plain": [
       "3×4 Matrix{Int64}:\n",
       " 1  1  1  1\n",
       " 1  1  1  1\n",
       " 1  1  1  1"
      ]
     },
     "execution_count": 26,
     "metadata": {},
     "output_type": "execute_result"
    }
   ],
   "source": [
    "# basic numpy counterparts for common matrices \n",
    "A = ones(3,4 ) #by default it will be float\n",
    "A1 =map(x-> trunc(Int,x), A) # a small trick to convert it into Int\n",
    "#best thing in broadcasting is this @. macro https://stackoverflow.com/questions/56137218/what-is-julia-equivalent-of-numpys-where-function"
   ]
  },
  {
   "cell_type": "code",
   "execution_count": 27,
   "id": "384eaf21",
   "metadata": {},
   "outputs": [
    {
     "data": {
      "text/plain": [
       "3×2 Matrix{Int64}:\n",
       " 1  1\n",
       " 1  1\n",
       " 1  1"
      ]
     },
     "execution_count": 27,
     "metadata": {},
     "output_type": "execute_result"
    }
   ],
   "source": [
    "x = fill(1, (3,2)) # = fill(1.0, 3) #or use this for any type of matrices instead"
   ]
  },
  {
   "cell_type": "code",
   "execution_count": 14,
   "id": "340b5acd",
   "metadata": {},
   "outputs": [
    {
     "data": {
      "text/plain": [
       "3×4 Matrix{Float64}:\n",
       " 0.0  0.0  0.0  0.0\n",
       " 0.0  0.0  0.0  0.0\n",
       " 0.0  0.0  0.0  0.0"
      ]
     },
     "execution_count": 14,
     "metadata": {},
     "output_type": "execute_result"
    }
   ],
   "source": [
    "B = zeros(3,4)"
   ]
  },
  {
   "cell_type": "code",
   "execution_count": 29,
   "id": "9a9341cb",
   "metadata": {},
   "outputs": [
    {
     "data": {
      "text/plain": [
       "11-element Vector{Int64}:\n",
       "  0\n",
       "  2\n",
       "  4\n",
       "  6\n",
       "  8\n",
       " 10\n",
       " 12\n",
       " 14\n",
       " 16\n",
       " 18\n",
       " 20"
      ]
     },
     "execution_count": 29,
     "metadata": {},
     "output_type": "execute_result"
    }
   ],
   "source": [
    "A = [i*2 for i in 0:10] #if you want to use np.arrange()"
   ]
  },
  {
   "cell_type": "code",
   "execution_count": 31,
   "id": "7c91a535",
   "metadata": {},
   "outputs": [
    {
     "data": {
      "text/plain": [
       "UniformScaling{Bool}\n",
       "true*I"
      ]
     },
     "execution_count": 31,
     "metadata": {},
     "output_type": "execute_result"
    }
   ],
   "source": [
    "# to use Identity matrice of any size the best Julia offers is \n",
    "using LinearAlgebra\n",
    "I #now julia knows what identity matrix is of any size just use I insteaad of making the size (2,2)"
   ]
  },
  {
   "cell_type": "code",
   "execution_count": 33,
   "id": "cab11207",
   "metadata": {},
   "outputs": [
    {
     "data": {
      "text/plain": [
       "MersenneTwister(1234)"
      ]
     },
     "execution_count": 33,
     "metadata": {},
     "output_type": "execute_result"
    }
   ],
   "source": [
    "#julia also has np.random.seed(12) equivalent as\n",
    "Random.seed!(1234)"
   ]
  },
  {
   "cell_type": "code",
   "execution_count": 34,
   "id": "edaaa726",
   "metadata": {},
   "outputs": [
    {
     "data": {
      "text/plain": [
       "2-element Vector{Float64}:\n",
       " 0.5908446386657102\n",
       " 0.7667970365022592"
      ]
     },
     "execution_count": 34,
     "metadata": {},
     "output_type": "execute_result"
    }
   ],
   "source": [
    "rand(2)"
   ]
  },
  {
   "cell_type": "code",
   "execution_count": 35,
   "id": "24d1c8a3",
   "metadata": {},
   "outputs": [
    {
     "data": {
      "text/plain": [
       "2-element Vector{Float64}:\n",
       " 0.5662374165061859\n",
       " 0.4600853424625171"
      ]
     },
     "execution_count": 35,
     "metadata": {},
     "output_type": "execute_result"
    }
   ],
   "source": [
    "rand(2) #we need to initialize the seed everytime we create a new random item"
   ]
  },
  {
   "cell_type": "code",
   "execution_count": 36,
   "id": "2c310759",
   "metadata": {},
   "outputs": [
    {
     "data": {
      "text/plain": [
       "MersenneTwister(1234)"
      ]
     },
     "execution_count": 36,
     "metadata": {},
     "output_type": "execute_result"
    }
   ],
   "source": [
    "Random.seed!(1234)"
   ]
  },
  {
   "cell_type": "code",
   "execution_count": 43,
   "id": "76287fd8",
   "metadata": {},
   "outputs": [
    {
     "data": {
      "text/plain": [
       "2×4 Matrix{Float64}:\n",
       " 0.794026  0.200586  0.246837  0.648882\n",
       " 0.854147  0.298614  0.579672  0.0109059"
      ]
     },
     "execution_count": 43,
     "metadata": {},
     "output_type": "execute_result"
    }
   ],
   "source": [
    "c = rand(2,4)"
   ]
  },
  {
   "cell_type": "code",
   "execution_count": 44,
   "id": "a1108565",
   "metadata": {},
   "outputs": [
    {
     "data": {
      "text/plain": [
       "(2, 4)"
      ]
     },
     "execution_count": 44,
     "metadata": {},
     "output_type": "execute_result"
    }
   ],
   "source": [
    "size(c) #size is the shape in Julia\n"
   ]
  },
  {
   "cell_type": "code",
   "execution_count": 46,
   "id": "ee8c1be7",
   "metadata": {},
   "outputs": [
    {
     "data": {
      "text/plain": [
       "4-element Vector{Int64}:\n",
       " 1\n",
       " 3\n",
       " 4\n",
       " 5"
      ]
     },
     "execution_count": 46,
     "metadata": {},
     "output_type": "execute_result"
    }
   ],
   "source": [
    "A = [1,3 ,4, 5]"
   ]
  },
  {
   "cell_type": "code",
   "execution_count": 47,
   "id": "92d9a9f7",
   "metadata": {},
   "outputs": [
    {
     "data": {
      "text/plain": [
       "3"
      ]
     },
     "execution_count": 47,
     "metadata": {},
     "output_type": "execute_result"
    }
   ],
   "source": [
    "A[2] #indexing starts with 1 instead of zero"
   ]
  },
  {
   "cell_type": "code",
   "execution_count": 87,
   "id": "3549ff47",
   "metadata": {},
   "outputs": [
    {
     "data": {
      "text/plain": [
       "5"
      ]
     },
     "execution_count": 87,
     "metadata": {},
     "output_type": "execute_result"
    }
   ],
   "source": [
    "#negative indices doesnt work in julia unlike python, but we have length as a function\n",
    "A[end] #end is basically the last index of Array"
   ]
  },
  {
   "cell_type": "code",
   "execution_count": 50,
   "id": "b93e06ad",
   "metadata": {},
   "outputs": [
    {
     "data": {
      "text/plain": [
       "4"
      ]
     },
     "execution_count": 50,
     "metadata": {},
     "output_type": "execute_result"
    }
   ],
   "source": [
    "#vector is mutable \n",
    "A[2] = 4"
   ]
  },
  {
   "cell_type": "code",
   "execution_count": 66,
   "id": "1ec712fb",
   "metadata": {},
   "outputs": [
    {
     "data": {
      "text/plain": [
       "10-element Vector{Int64}:\n",
       " 0\n",
       " 1\n",
       " 2\n",
       " 3\n",
       " 4\n",
       " 5\n",
       " 6\n",
       " 7\n",
       " 8\n",
       " 9"
      ]
     },
     "execution_count": 66,
     "metadata": {},
     "output_type": "execute_result"
    }
   ],
   "source": [
    "x = [i for i in 0:9]\n"
   ]
  },
  {
   "cell_type": "code",
   "execution_count": 67,
   "id": "8906641c",
   "metadata": {},
   "outputs": [
    {
     "data": {
      "text/plain": [
       "4-element Vector{Int64}:\n",
       " 0\n",
       " 1\n",
       " 2\n",
       " 3"
      ]
     },
     "execution_count": 67,
     "metadata": {},
     "output_type": "execute_result"
    }
   ],
   "source": [
    "#we can use slicing of arrays \n",
    "x[:3] #if nothing is mentioned in the first index it returns the last value\n",
    "y = x[1:4]"
   ]
  },
  {
   "cell_type": "code",
   "execution_count": 74,
   "id": "ae0bf7a0",
   "metadata": {},
   "outputs": [
    {
     "data": {
      "text/plain": [
       "3×4 Matrix{Int64}:\n",
       " 1   2   3   4\n",
       " 5   6   7   8\n",
       " 9  10  11  12"
      ]
     },
     "execution_count": 74,
     "metadata": {},
     "output_type": "execute_result"
    }
   ],
   "source": [
    "a = [1 2 3 4; 5 6 7 8; 9 10 11 12]"
   ]
  },
  {
   "cell_type": "code",
   "execution_count": 86,
   "id": "b6d5b395",
   "metadata": {},
   "outputs": [
    {
     "data": {
      "text/plain": [
       "3-element Vector{Int64}:\n",
       "  2\n",
       "  6\n",
       " 10"
      ]
     },
     "execution_count": 86,
     "metadata": {},
     "output_type": "execute_result"
    }
   ],
   "source": [
    "a[1:3 , :2] #julia always work columnwise  a[row1 : row 2, Col1 : col2]"
   ]
  },
  {
   "cell_type": "markdown",
   "id": "ea72c71c",
   "metadata": {},
   "source": [
    "Concatinating array"
   ]
  },
  {
   "cell_type": "code",
   "execution_count": 88,
   "id": "829a299e",
   "metadata": {},
   "outputs": [
    {
     "data": {
      "text/plain": [
       "3-element Vector{Float64}:\n",
       " 0.6516642063795697\n",
       " 0.05664246860321187\n",
       " 0.8427136165865521"
      ]
     },
     "execution_count": 88,
     "metadata": {},
     "output_type": "execute_result"
    }
   ],
   "source": [
    "x = rand(5)\n",
    "y= rand(3)"
   ]
  },
  {
   "cell_type": "code",
   "execution_count": 94,
   "id": "8a9c1b72",
   "metadata": {},
   "outputs": [
    {
     "data": {
      "text/plain": [
       "8-element Vector{Float64}:\n",
       " 0.06642303695533736\n",
       " 0.9567533636029237\n",
       " 0.646690981531646\n",
       " 0.11248587118714015\n",
       " 0.2760209506672211\n",
       " 0.6516642063795697\n",
       " 0.05664246860321187\n",
       " 0.8427136165865521"
      ]
     },
     "execution_count": 94,
     "metadata": {},
     "output_type": "execute_result"
    }
   ],
   "source": [
    "#for concatination we use two function either vcat or hcat \n",
    "z= vcat(x,y)"
   ]
  },
  {
   "cell_type": "code",
   "execution_count": 95,
   "id": "bf83294e",
   "metadata": {},
   "outputs": [
    {
     "name": "stdout",
     "output_type": "stream",
     "text": [
      "search: \u001b[0m\u001b[1mv\u001b[22m\u001b[0m\u001b[1mc\u001b[22m\u001b[0m\u001b[1ma\u001b[22m\u001b[0m\u001b[1mt\u001b[22m h\u001b[0m\u001b[1mv\u001b[22m\u001b[0m\u001b[1mc\u001b[22m\u001b[0m\u001b[1ma\u001b[22m\u001b[0m\u001b[1mt\u001b[22m \u001b[0m\u001b[1mV\u001b[22me\u001b[0m\u001b[1mc\u001b[22mOrM\u001b[0m\u001b[1ma\u001b[22m\u001b[0m\u001b[1mt\u001b[22m Dense\u001b[0m\u001b[1mV\u001b[22me\u001b[0m\u001b[1mc\u001b[22mOrM\u001b[0m\u001b[1ma\u001b[22m\u001b[0m\u001b[1mt\u001b[22m Strided\u001b[0m\u001b[1mV\u001b[22me\u001b[0m\u001b[1mc\u001b[22mOrM\u001b[0m\u001b[1ma\u001b[22m\u001b[0m\u001b[1mt\u001b[22m Abstract\u001b[0m\u001b[1mV\u001b[22me\u001b[0m\u001b[1mc\u001b[22mOrM\u001b[0m\u001b[1ma\u001b[22m\u001b[0m\u001b[1mt\u001b[22m\n",
      "\n"
     ]
    },
    {
     "data": {
      "text/latex": [
       "\\begin{verbatim}\n",
       "vcat(A...)\n",
       "\\end{verbatim}\n",
       "Concatenate along dimension 1.\n",
       "\n",
       "\\section{Examples}\n",
       "\\begin{verbatim}\n",
       "julia> a = [1 2 3 4 5]\n",
       "1×5 Matrix{Int64}:\n",
       " 1  2  3  4  5\n",
       "\n",
       "julia> b = [6 7 8 9 10; 11 12 13 14 15]\n",
       "2×5 Matrix{Int64}:\n",
       "  6   7   8   9  10\n",
       " 11  12  13  14  15\n",
       "\n",
       "julia> vcat(a,b)\n",
       "3×5 Matrix{Int64}:\n",
       "  1   2   3   4   5\n",
       "  6   7   8   9  10\n",
       " 11  12  13  14  15\n",
       "\n",
       "julia> c = ([1 2 3], [4 5 6])\n",
       "([1 2 3], [4 5 6])\n",
       "\n",
       "julia> vcat(c...)\n",
       "2×3 Matrix{Int64}:\n",
       " 1  2  3\n",
       " 4  5  6\n",
       "\\end{verbatim}\n"
      ],
      "text/markdown": [
       "```\n",
       "vcat(A...)\n",
       "```\n",
       "\n",
       "Concatenate along dimension 1.\n",
       "\n",
       "# Examples\n",
       "\n",
       "```jldoctest\n",
       "julia> a = [1 2 3 4 5]\n",
       "1×5 Matrix{Int64}:\n",
       " 1  2  3  4  5\n",
       "\n",
       "julia> b = [6 7 8 9 10; 11 12 13 14 15]\n",
       "2×5 Matrix{Int64}:\n",
       "  6   7   8   9  10\n",
       " 11  12  13  14  15\n",
       "\n",
       "julia> vcat(a,b)\n",
       "3×5 Matrix{Int64}:\n",
       "  1   2   3   4   5\n",
       "  6   7   8   9  10\n",
       " 11  12  13  14  15\n",
       "\n",
       "julia> c = ([1 2 3], [4 5 6])\n",
       "([1 2 3], [4 5 6])\n",
       "\n",
       "julia> vcat(c...)\n",
       "2×3 Matrix{Int64}:\n",
       " 1  2  3\n",
       " 4  5  6\n",
       "```\n"
      ],
      "text/plain": [
       "\u001b[36m  vcat(A...)\u001b[39m\n",
       "\n",
       "  Concatenate along dimension 1.\n",
       "\n",
       "\u001b[1m  Examples\u001b[22m\n",
       "\u001b[1m  ≡≡≡≡≡≡≡≡≡≡\u001b[22m\n",
       "\n",
       "\u001b[36m  julia> a = [1 2 3 4 5]\u001b[39m\n",
       "\u001b[36m  1×5 Matrix{Int64}:\u001b[39m\n",
       "\u001b[36m   1  2  3  4  5\u001b[39m\n",
       "\u001b[36m  \u001b[39m\n",
       "\u001b[36m  julia> b = [6 7 8 9 10; 11 12 13 14 15]\u001b[39m\n",
       "\u001b[36m  2×5 Matrix{Int64}:\u001b[39m\n",
       "\u001b[36m    6   7   8   9  10\u001b[39m\n",
       "\u001b[36m   11  12  13  14  15\u001b[39m\n",
       "\u001b[36m  \u001b[39m\n",
       "\u001b[36m  julia> vcat(a,b)\u001b[39m\n",
       "\u001b[36m  3×5 Matrix{Int64}:\u001b[39m\n",
       "\u001b[36m    1   2   3   4   5\u001b[39m\n",
       "\u001b[36m    6   7   8   9  10\u001b[39m\n",
       "\u001b[36m   11  12  13  14  15\u001b[39m\n",
       "\u001b[36m  \u001b[39m\n",
       "\u001b[36m  julia> c = ([1 2 3], [4 5 6])\u001b[39m\n",
       "\u001b[36m  ([1 2 3], [4 5 6])\u001b[39m\n",
       "\u001b[36m  \u001b[39m\n",
       "\u001b[36m  julia> vcat(c...)\u001b[39m\n",
       "\u001b[36m  2×3 Matrix{Int64}:\u001b[39m\n",
       "\u001b[36m   1  2  3\u001b[39m\n",
       "\u001b[36m   4  5  6\u001b[39m"
      ]
     },
     "execution_count": 95,
     "metadata": {},
     "output_type": "execute_result"
    }
   ],
   "source": [
    "?vcat"
   ]
  },
  {
   "cell_type": "markdown",
   "id": "a9e3ef1d",
   "metadata": {},
   "source": [
    "## DataFrames"
   ]
  },
  {
   "cell_type": "code",
   "execution_count": null,
   "id": "faed5f33",
   "metadata": {},
   "outputs": [],
   "source": []
  },
  {
   "cell_type": "code",
   "execution_count": null,
   "id": "de79f399",
   "metadata": {},
   "outputs": [],
   "source": []
  },
  {
   "cell_type": "code",
   "execution_count": null,
   "id": "a37f6bb7",
   "metadata": {},
   "outputs": [],
   "source": []
  },
  {
   "cell_type": "code",
   "execution_count": null,
   "id": "06750dda",
   "metadata": {},
   "outputs": [],
   "source": []
  },
  {
   "cell_type": "code",
   "execution_count": null,
   "id": "50befc5f",
   "metadata": {},
   "outputs": [],
   "source": []
  },
  {
   "cell_type": "code",
   "execution_count": null,
   "id": "74f5de08",
   "metadata": {},
   "outputs": [],
   "source": []
  },
  {
   "cell_type": "code",
   "execution_count": null,
   "id": "82777204",
   "metadata": {},
   "outputs": [],
   "source": []
  },
  {
   "cell_type": "code",
   "execution_count": null,
   "id": "a3513951",
   "metadata": {},
   "outputs": [],
   "source": []
  },
  {
   "cell_type": "code",
   "execution_count": null,
   "id": "420d58bc",
   "metadata": {},
   "outputs": [],
   "source": []
  },
  {
   "cell_type": "code",
   "execution_count": null,
   "id": "2fd13d3d",
   "metadata": {},
   "outputs": [],
   "source": []
  },
  {
   "cell_type": "code",
   "execution_count": null,
   "id": "96af0cf7",
   "metadata": {},
   "outputs": [],
   "source": []
  }
 ],
 "metadata": {
  "kernelspec": {
   "display_name": "Julia 1.6.0",
   "language": "julia",
   "name": "julia-1.6"
  },
  "language_info": {
   "file_extension": ".jl",
   "mimetype": "application/julia",
   "name": "julia",
   "version": "1.6.0"
  }
 },
 "nbformat": 4,
 "nbformat_minor": 5
}
